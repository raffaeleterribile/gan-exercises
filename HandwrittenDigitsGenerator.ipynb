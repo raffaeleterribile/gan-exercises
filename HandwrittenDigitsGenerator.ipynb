{
 "cells": [
  {
   "cell_type": "markdown",
   "metadata": {},
   "source": [
    "# An Handwritten Digits Generator"
   ]
  },
  {
   "cell_type": "markdown",
   "metadata": {},
   "source": [
    "Importing libraries"
   ]
  },
  {
   "cell_type": "code",
   "execution_count": 1,
   "metadata": {},
   "outputs": [],
   "source": [
    "import torch\n",
    "from torch import nn\n",
    "\n",
    "import math\n",
    "import matplotlib.pyplot as plt\n",
    "import torchvision\n",
    "import torchvision.transforms as transforms"
   ]
  },
  {
   "cell_type": "markdown",
   "metadata": {},
   "source": [
    "Setting up the seed of the random generator to get reproducible results"
   ]
  },
  {
   "cell_type": "code",
   "execution_count": 2,
   "metadata": {},
   "outputs": [
    {
     "data": {
      "text/plain": [
       "<torch._C.Generator at 0x2caa4ae6af0>"
      ]
     },
     "execution_count": 2,
     "metadata": {},
     "output_type": "execute_result"
    }
   ],
   "source": [
    "torch.manual_seed(111)"
   ]
  },
  {
   "cell_type": "markdown",
   "metadata": {},
   "source": [
    "Selecting the device to run on (GPU if available, otherwise CPU)"
   ]
  },
  {
   "cell_type": "code",
   "execution_count": 3,
   "metadata": {},
   "outputs": [],
   "source": [
    "device = \"\"\n",
    "if torch.cuda.is_available():\n",
    "    device = torch.device(\"cuda\")\n",
    "else:\n",
    "    device = torch.device(\"cpu\")"
   ]
  },
  {
   "cell_type": "markdown",
   "metadata": {},
   "source": [
    "Preparing the transofrmation to apply to data"
   ]
  },
  {
   "cell_type": "code",
   "execution_count": 4,
   "metadata": {},
   "outputs": [],
   "source": [
    "transform = transforms.Compose(\n",
    "    [transforms.ToTensor(), transforms.Normalize((0.5,), (0.5,))]\n",
    ")"
   ]
  },
  {
   "cell_type": "markdown",
   "metadata": {},
   "source": [
    "Load the dataset"
   ]
  },
  {
   "cell_type": "code",
   "execution_count": 5,
   "metadata": {},
   "outputs": [],
   "source": [
    "train_set = torchvision.datasets.MNIST(\n",
    "    root=\".\", train=True, download=True, transform=transform\n",
    ")"
   ]
  },
  {
   "cell_type": "markdown",
   "metadata": {},
   "source": [
    "Create the DataLoader"
   ]
  },
  {
   "cell_type": "code",
   "execution_count": 6,
   "metadata": {},
   "outputs": [],
   "source": [
    "batch_size = 32\n",
    "train_loader = torch.utils.data.DataLoader(\n",
    "    train_set, batch_size=batch_size, shuffle=True\n",
    ")"
   ]
  },
  {
   "cell_type": "markdown",
   "metadata": {},
   "source": [
    "Plotting some data"
   ]
  },
  {
   "cell_type": "code",
   "execution_count": 7,
   "metadata": {},
   "outputs": [
    {
     "data": {
      "image/png": "[encoded data removed]",
      "text/plain": [
       "<Figure size 432x288 with 16 Axes>"
      ]
     },
     "metadata": {},
     "output_type": "display_data"
    }
   ],
   "source": [
    "real_samples, mnist_labels = next(iter(train_loader))\n",
    "for i in range(16):\n",
    "    ax = plt.subplot(4, 4, i + 1)\n",
    "    plt.imshow(real_samples[i].reshape(28, 28), cmap=\"gray_r\")\n",
    "    plt.xticks([])\n",
    "    plt.yticks([])"
   ]
  },
  {
   "cell_type": "markdown",
   "metadata": {},
   "source": [
    "Preparing the Discriminator"
   ]
  },
  {
   "cell_type": "code",
   "execution_count": 8,
   "metadata": {},
   "outputs": [],
   "source": [
    "class Discriminator(nn.Module):\n",
    "\n",
    "    def __init__(self):\n",
    "\n",
    "        super().__init__()\n",
    "\n",
    "        self.model = nn.Sequential(\n",
    "\n",
    "            nn.Linear(784, 1024),\n",
    "\n",
    "            nn.ReLU(),\n",
    "\n",
    "            nn.Dropout(0.3),\n",
    "\n",
    "            nn.Linear(1024, 512),\n",
    "\n",
    "            nn.ReLU(),\n",
    "\n",
    "            nn.Dropout(0.3),\n",
    "\n",
    "            nn.Linear(512, 256),\n",
    "\n",
    "            nn.ReLU(),\n",
    "\n",
    "            nn.Dropout(0.3),\n",
    "\n",
    "            nn.Linear(256, 1),\n",
    "\n",
    "            nn.Sigmoid(),\n",
    "\n",
    "        )\n",
    "\n",
    "\n",
    "    def forward(self, x):\n",
    "\n",
    "        x = x.view(x.size(0), 784)\n",
    "\n",
    "        output = self.model(x)\n",
    "\n",
    "        return output"
   ]
  },
  {
   "cell_type": "markdown",
   "metadata": {},
   "source": [
    "Instantiate the discriminator on the device"
   ]
  },
  {
   "cell_type": "code",
   "execution_count": 9,
   "metadata": {},
   "outputs": [],
   "source": [
    "discriminator = Discriminator().to(device=device)"
   ]
  },
  {
   "cell_type": "markdown",
   "metadata": {},
   "source": [
    "Preparing the Generator"
   ]
  },
  {
   "cell_type": "code",
   "execution_count": 10,
   "metadata": {},
   "outputs": [],
   "source": [
    "class Generator(nn.Module):\n",
    "\n",
    "    def __init__(self):\n",
    "\n",
    "        super().__init__()\n",
    "\n",
    "        self.model = nn.Sequential(\n",
    "\n",
    "            nn.Linear(100, 256),\n",
    "\n",
    "            nn.ReLU(),\n",
    "\n",
    "            nn.Linear(256, 512),\n",
    "\n",
    "            nn.ReLU(),\n",
    "\n",
    "            nn.Linear(512, 1024),\n",
    "\n",
    "            nn.ReLU(),\n",
    "\n",
    "            nn.Linear(1024, 784),\n",
    "\n",
    "            nn.Tanh(),\n",
    "\n",
    "        )\n",
    "\n",
    "\n",
    "    def forward(self, x):\n",
    "\n",
    "        output = self.model(x)\n",
    "\n",
    "        output = output.view(x.size(0), 1, 28, 28)\n",
    "\n",
    "        return output"
   ]
  },
  {
   "cell_type": "markdown",
   "metadata": {},
   "source": [
    "Instantiate the generator on the device"
   ]
  },
  {
   "cell_type": "code",
   "execution_count": 11,
   "metadata": {},
   "outputs": [],
   "source": [
    "generator = Generator().to(device=device)"
   ]
  },
  {
   "cell_type": "markdown",
   "metadata": {},
   "source": [
    "Setting up training parameters"
   ]
  },
  {
   "cell_type": "code",
   "execution_count": 12,
   "metadata": {},
   "outputs": [],
   "source": [
    "lr = 0.0001\n",
    "num_epochs = 50\n",
    "loss_function = nn.BCELoss()"
   ]
  },
  {
   "cell_type": "markdown",
   "metadata": {},
   "source": [
    "Preparing optimezers"
   ]
  },
  {
   "cell_type": "code",
   "execution_count": 13,
   "metadata": {},
   "outputs": [],
   "source": [
    "optimizer_discriminator = torch.optim.Adam(discriminator.parameters(), lr=lr)\n",
    "optimizer_generator = torch.optim.Adam(generator.parameters(), lr=lr)"
   ]
  },
  {
   "cell_type": "markdown",
   "metadata": {},
   "source": [
    "Train the models"
   ]
  },
  {
   "cell_type": "code",
   "execution_count": 14,
   "metadata": {},
   "outputs": [
    {
     "name": "stdout",
     "output_type": "stream",
     "text": [
      "Epoch: 0 Loss D.: 0.5875952839851379\n",
      "Epoch: 0 Loss G.: 0.4848797917366028\n",
      "Epoch: 1 Loss D.: 0.05806529521942139\n",
      "Epoch: 1 Loss G.: 5.153071403503418\n",
      "Epoch: 2 Loss D.: 0.07664407789707184\n",
      "Epoch: 2 Loss G.: 8.07432746887207\n",
      "Epoch: 3 Loss D.: 0.02984347753226757\n",
      "Epoch: 3 Loss G.: 7.504004001617432\n",
      "Epoch: 4 Loss D.: 0.11426059901714325\n",
      "Epoch: 4 Loss G.: 4.298037528991699\n",
      "Epoch: 5 Loss D.: 0.09502187371253967\n",
      "Epoch: 5 Loss G.: 2.663529872894287\n",
      "Epoch: 6 Loss D.: 0.14287590980529785\n",
      "Epoch: 6 Loss G.: 3.5501694679260254\n",
      "Epoch: 7 Loss D.: 0.07712271064519882\n",
      "Epoch: 7 Loss G.: 3.84006929397583\n",
      "Epoch: 8 Loss D.: 0.21313214302062988\n",
      "Epoch: 8 Loss G.: 3.823936700820923\n",
      "Epoch: 9 Loss D.: 0.1273103654384613\n",
      "Epoch: 9 Loss G.: 3.284196138381958\n",
      "Epoch: 10 Loss D.: 0.17555154860019684\n",
      "Epoch: 10 Loss G.: 4.129209518432617\n",
      "Epoch: 11 Loss D.: 0.2917776107788086\n",
      "Epoch: 11 Loss G.: 1.8039863109588623\n",
      "Epoch: 12 Loss D.: 0.2728653848171234\n",
      "Epoch: 12 Loss G.: 1.643632411956787\n",
      "Epoch: 13 Loss D.: 0.37560054659843445\n",
      "Epoch: 13 Loss G.: 1.7733807563781738\n",
      "Epoch: 14 Loss D.: 0.30186378955841064\n",
      "Epoch: 14 Loss G.: 1.389786958694458\n",
      "Epoch: 15 Loss D.: 0.42364320158958435\n",
      "Epoch: 15 Loss G.: 1.694414734840393\n",
      "Epoch: 16 Loss D.: 0.43039122223854065\n",
      "Epoch: 16 Loss G.: 1.5416017770767212\n",
      "Epoch: 17 Loss D.: 0.4115956425666809\n",
      "Epoch: 17 Loss G.: 1.245368242263794\n",
      "Epoch: 18 Loss D.: 0.4684789776802063\n",
      "Epoch: 18 Loss G.: 1.3367555141448975\n",
      "Epoch: 19 Loss D.: 0.5241881608963013\n",
      "Epoch: 19 Loss G.: 1.5023555755615234\n",
      "Epoch: 20 Loss D.: 0.5325295925140381\n",
      "Epoch: 20 Loss G.: 1.6957955360412598\n",
      "Epoch: 21 Loss D.: 0.44923192262649536\n",
      "Epoch: 21 Loss G.: 1.2812833786010742\n",
      "Epoch: 22 Loss D.: 0.3909316062927246\n",
      "Epoch: 22 Loss G.: 1.4372332096099854\n",
      "Epoch: 23 Loss D.: 0.4468698501586914\n",
      "Epoch: 23 Loss G.: 1.4963114261627197\n",
      "Epoch: 24 Loss D.: 0.3806039094924927\n",
      "Epoch: 24 Loss G.: 1.0881822109222412\n",
      "Epoch: 25 Loss D.: 0.5120193362236023\n",
      "Epoch: 25 Loss G.: 1.0776726007461548\n",
      "Epoch: 26 Loss D.: 0.5861644744873047\n",
      "Epoch: 26 Loss G.: 1.358665943145752\n",
      "Epoch: 27 Loss D.: 0.49961721897125244\n",
      "Epoch: 27 Loss G.: 1.3423974514007568\n",
      "Epoch: 28 Loss D.: 0.46189606189727783\n",
      "Epoch: 28 Loss G.: 1.2903001308441162\n",
      "Epoch: 29 Loss D.: 0.37652480602264404\n",
      "Epoch: 29 Loss G.: 1.2168045043945312\n",
      "Epoch: 30 Loss D.: 0.5040280818939209\n",
      "Epoch: 30 Loss G.: 1.137328863143921\n",
      "Epoch: 31 Loss D.: 0.43239009380340576\n",
      "Epoch: 31 Loss G.: 1.3390240669250488\n",
      "Epoch: 32 Loss D.: 0.553054690361023\n",
      "Epoch: 32 Loss G.: 1.4316694736480713\n",
      "Epoch: 33 Loss D.: 0.4034031629562378\n",
      "Epoch: 33 Loss G.: 1.195180058479309\n",
      "Epoch: 34 Loss D.: 0.6003211736679077\n",
      "Epoch: 34 Loss G.: 1.2156751155853271\n",
      "Epoch: 35 Loss D.: 0.38891297578811646\n",
      "Epoch: 35 Loss G.: 1.0713211297988892\n",
      "Epoch: 36 Loss D.: 0.46489644050598145\n",
      "Epoch: 36 Loss G.: 1.3021423816680908\n",
      "Epoch: 37 Loss D.: 0.4790457487106323\n",
      "Epoch: 37 Loss G.: 1.314961552619934\n",
      "Epoch: 38 Loss D.: 0.4960862398147583\n",
      "Epoch: 38 Loss G.: 1.0853147506713867\n",
      "Epoch: 39 Loss D.: 0.5012771487236023\n",
      "Epoch: 39 Loss G.: 1.4194977283477783\n",
      "Epoch: 40 Loss D.: 0.6531030535697937\n",
      "Epoch: 40 Loss G.: 1.2253499031066895\n",
      "Epoch: 41 Loss D.: 0.4543267786502838\n",
      "Epoch: 41 Loss G.: 1.370513916015625\n",
      "Epoch: 42 Loss D.: 0.5597542524337769\n",
      "Epoch: 42 Loss G.: 1.0614407062530518\n",
      "Epoch: 43 Loss D.: 0.6552309989929199\n",
      "Epoch: 43 Loss G.: 1.2330350875854492\n",
      "Epoch: 44 Loss D.: 0.5823487043380737\n",
      "Epoch: 44 Loss G.: 1.0647246837615967\n",
      "Epoch: 45 Loss D.: 0.5606460571289062\n",
      "Epoch: 45 Loss G.: 1.1894862651824951\n",
      "Epoch: 46 Loss D.: 0.5344876050949097\n",
      "Epoch: 46 Loss G.: 1.171346664428711\n",
      "Epoch: 47 Loss D.: 0.5057748556137085\n",
      "Epoch: 47 Loss G.: 1.2343705892562866\n",
      "Epoch: 48 Loss D.: 0.47014957666397095\n",
      "Epoch: 48 Loss G.: 1.2439196109771729\n",
      "Epoch: 49 Loss D.: 0.6334918737411499\n",
      "Epoch: 49 Loss G.: 0.9995608329772949\n"
     ]
    }
   ],
   "source": [
    "for epoch in range(num_epochs):\n",
    "\n",
    "    for n, (real_samples, mnist_labels) in enumerate(train_loader):\n",
    "\n",
    "        # Data for training the discriminator\n",
    "\n",
    "        real_samples = real_samples.to(device=device)\n",
    "\n",
    "        real_samples_labels = torch.ones((batch_size, 1)).to(\n",
    "\n",
    "            device=device\n",
    "\n",
    "        )\n",
    "\n",
    "        latent_space_samples = torch.randn((batch_size, 100)).to(\n",
    "\n",
    "            device=device\n",
    "\n",
    "        )\n",
    "\n",
    "        generated_samples = generator(latent_space_samples)\n",
    "\n",
    "        generated_samples_labels = torch.zeros((batch_size, 1)).to(\n",
    "\n",
    "            device=device\n",
    "\n",
    "        )\n",
    "\n",
    "        all_samples = torch.cat((real_samples, generated_samples))\n",
    "\n",
    "        all_samples_labels = torch.cat(\n",
    "\n",
    "            (real_samples_labels, generated_samples_labels)\n",
    "\n",
    "        )\n",
    "\n",
    "\n",
    "        # Training the discriminator\n",
    "\n",
    "        discriminator.zero_grad()\n",
    "\n",
    "        output_discriminator = discriminator(all_samples)\n",
    "\n",
    "        loss_discriminator = loss_function(\n",
    "\n",
    "            output_discriminator, all_samples_labels\n",
    "\n",
    "        )\n",
    "\n",
    "        loss_discriminator.backward()\n",
    "\n",
    "        optimizer_discriminator.step()\n",
    "\n",
    "\n",
    "        # Data for training the generator\n",
    "\n",
    "        latent_space_samples = torch.randn((batch_size, 100)).to(\n",
    "\n",
    "            device=device\n",
    "\n",
    "        )\n",
    "\n",
    "\n",
    "        # Training the generator\n",
    "\n",
    "        generator.zero_grad()\n",
    "\n",
    "        generated_samples = generator(latent_space_samples)\n",
    "\n",
    "        output_discriminator_generated = discriminator(generated_samples)\n",
    "\n",
    "        loss_generator = loss_function(\n",
    "\n",
    "            output_discriminator_generated, real_samples_labels\n",
    "\n",
    "        )\n",
    "\n",
    "        loss_generator.backward()\n",
    "\n",
    "        optimizer_generator.step()\n",
    "\n",
    "\n",
    "        # Show loss\n",
    "\n",
    "        if n == batch_size - 1:\n",
    "\n",
    "            print(f\"Epoch: {epoch} Loss D.: {loss_discriminator}\")\n",
    "\n",
    "            print(f\"Epoch: {epoch} Loss G.: {loss_generator}\")"
   ]
  },
  {
   "cell_type": "markdown",
   "metadata": {},
   "source": [
    "Checking the Samples Generated by the GAN"
   ]
  },
  {
   "cell_type": "code",
   "execution_count": 15,
   "metadata": {},
   "outputs": [],
   "source": [
    "latent_space_samples = torch.randn(batch_size, 100).to(device=device)\n",
    "generated_samples = generator(latent_space_samples)"
   ]
  },
  {
   "cell_type": "markdown",
   "metadata": {},
   "source": [
    "Plotting the Samples"
   ]
  },
  {
   "cell_type": "code",
   "execution_count": 16,
   "metadata": {},
   "outputs": [
    {
     "data": {
      "image/png": "[encoded data removed]",
      "text/plain": [
       "<Figure size 432x288 with 16 Axes>"
      ]
     },
     "metadata": {},
     "output_type": "display_data"
    }
   ],
   "source": [
    "generated_samples = generated_samples.cpu().detach()\n",
    "for i in range(16):\n",
    "    ax = plt.subplot(4, 4, i + 1)\n",
    "    plt.imshow(generated_samples[i].reshape(28, 28), cmap=\"gray_r\")\n",
    "    plt.xticks([])\n",
    "    plt.yticks([])"
   ]
  }
 ],
 "metadata": {
  "kernelspec": {
   "display_name": "Python 3.10.4 ('gan')",
   "language": "python",
   "name": "python3"
  },
  "language_info": {
   "codemirror_mode": {
    "name": "ipython",
    "version": 3
   },
   "file_extension": ".py",
   "mimetype": "text/x-python",
   "name": "python",
   "nbconvert_exporter": "python",
   "pygments_lexer": "ipython3",
   "version": "3.10.4"
  },
  "orig_nbformat": 4,
  "vscode": {
   "interpreter": {
    "hash": "3408308489a148aabc5dc64b93de6e686612bfa42a2e41bd6d3e1c981f6c257c"
   }
  }
 },
 "nbformat": 4,
 "nbformat_minor": 2
}
