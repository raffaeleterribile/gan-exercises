{
 "cells": [
  {
   "cell_type": "markdown",
   "metadata": {},
   "source": [
    "# About the environment\n",
    "\n",
    "The article suggested to configure environment with these commands:\n",
    "\n",
    "> `conda create --name gan`\n",
    ">\n",
    "> `conda activate gan`\n",
    "\n",
    "and to install these librraries:\n",
    "\n",
    "> `conda install -c pytorch pytorch=1.4.0`\n",
    ">\n",
    "> `conda install matplotlib jupyter`\n",
    "\n",
    "and finally to register the new environment with Jupyter (to use Jupyter Notebboks with it) with this command:\n",
    "\n",
    "> `python -m ipykernel install --user --name gan`\n",
    "\n",
    "But I prefer to use actual latest version of Python and Pytorch and to installa additional libraries to experiment with other notebooks.\n",
    "So I've created the environment with these commands:\n",
    "\n",
    "> `conda create --name gan`\n",
    "> \n",
    "> `conda activate gan`\n",
    ">\n",
    "> `conda install pip # TO install packages not suppoerted by conda`\n",
    ">\n",
    "> `conda install matplotlib ipykernel`\n",
    ">\n",
    "> `conda install pytorch torchvision torchaudio cudatoolkit=11.6 -c pytorch -c conda-forge`\n",
    "\n"
   ]
  }
 ],
 "metadata": {
  "kernelspec": {
   "display_name": "Python 3.10.4 ('gan')",
   "language": "python",
   "name": "python3"
  },
  "language_info": {
   "name": "python",
   "version": "3.10.4"
  },
  "orig_nbformat": 4,
  "vscode": {
   "interpreter": {
    "hash": "3408308489a148aabc5dc64b93de6e686612bfa42a2e41bd6d3e1c981f6c257c"
   }
  }
 },
 "nbformat": 4,
 "nbformat_minor": 2
}
